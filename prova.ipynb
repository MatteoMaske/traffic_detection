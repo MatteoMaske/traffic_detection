{
 "cells": [
  {
   "cell_type": "markdown",
   "metadata": {},
   "source": [
    "- Read the video\n"
   ]
  },
  {
   "cell_type": "code",
   "execution_count": 1,
   "metadata": {},
   "outputs": [],
   "source": [
    "import cv2 \n",
    "import numpy as np\n",
    "import matplotlib.pyplot as plt"
   ]
  },
  {
   "cell_type": "markdown",
   "metadata": {},
   "source": [
    "- Display it"
   ]
  },
  {
   "cell_type": "code",
   "execution_count": 2,
   "metadata": {},
   "outputs": [
    {
     "name": "stderr",
     "output_type": "stream",
     "text": [
      "qt.qpa.plugin: Could not find the Qt platform plugin \"wayland\" in \"/home/davide/Desktop/SIV/lib/python3.10/site-packages/cv2/qt/plugins\"\n"
     ]
    }
   ],
   "source": [
    "video = cv2.VideoCapture('/home/davide/Desktop/drones/assets/video2.mp4')\n",
    "\n",
    "if (video.isOpened()== False): \n",
    "  print(\"Error opening video stream or file\")\n",
    "\n",
    "while (video.isOpened()):\n",
    "  ret, frame = video.read()\n",
    "  if ret == True:\n",
    "    cv2.imshow('Frame',frame)\n",
    "    if cv2.waitKey(25) & 0xFF == ord('q'):\n",
    "      break\n",
    " \n",
    "  # Break the loop\n",
    "  else: \n",
    "    break   \n",
    "  \n",
    "video.release()\n",
    " \n",
    "# Closes all the frames\n",
    "cv2.destroyAllWindows()"
   ]
  },
  {
   "cell_type": "markdown",
   "metadata": {},
   "source": [
    "- Background extractor"
   ]
  },
  {
   "cell_type": "code",
   "execution_count": 5,
   "metadata": {},
   "outputs": [],
   "source": [
    "video = cv2.VideoCapture('/home/davide/Desktop/drones/assets/video.mp4')\n",
    "\n",
    "fgbg1 = cv2.createBackgroundSubtractorKNN();    \n",
    "fgbg2 = cv2.createBackgroundSubtractorMOG2(); \n",
    "if (video.isOpened()== False): \n",
    "  print(\"Error opening video stream or file\")\n",
    "\n",
    "while (video.isOpened()):\n",
    "  ret, frame = video.read()\n",
    "  if ret == True:\n",
    "    blur = cv2.GaussianBlur(frame,(5,5),0)\n",
    "    fgmask1 = fgbg1.apply(cv2.cvtColor(blur, cv2.COLOR_BGR2GRAY))\n",
    "    # fgmask1 = fgbg1.apply(frame)\n",
    "    cv2.imshow('Frame',fgmask1)\n",
    "    if cv2.waitKey(25) & 0xFF == ord('q'):\n",
    "      break\n",
    " \n",
    "  # Break the loop\n",
    "  else: \n",
    "    break   \n",
    "  \n",
    "video.release()\n",
    " \n",
    "# Closes all the frames\n",
    "cv2.destroyAllWindows()\n"
   ]
  },
  {
   "cell_type": "markdown",
   "metadata": {},
   "source": [
    "- Edge detection"
   ]
  },
  {
   "cell_type": "code",
   "execution_count": 6,
   "metadata": {},
   "outputs": [],
   "source": [
    "video = cv2.VideoCapture('/home/davide/Desktop/drones/assets/video2.mp4')\n",
    "\n",
    "if (video.isOpened()== False): \n",
    "  print(\"Error opening video stream or file\")\n",
    "\n",
    "while (video.isOpened()):\n",
    "  ret, frame = video.read()\n",
    "  if ret == True:\n",
    "    hsv = cv2.cvtColor(frame, cv2.COLOR_BGR2HSV)\n",
    "    sobelx = cv2.Sobel(frame,cv2.CV_64F,1,0,ksize=5) \n",
    "    sobely = cv2.Sobel(frame,cv2.CV_64F,0,1,ksize=5) \n",
    "    laplacian = cv2.Laplacian(frame,cv2.CV_64F)     \n",
    "      \n",
    "    # cv2.imshow('Frame',sobelx)\n",
    "    cv2.imshow('Frame',sobely)\n",
    "    # cv2.imshow('Frame',laplacian)\n",
    "    if cv2.waitKey(25) & 0xFF == ord('q'):\n",
    "      break\n",
    " \n",
    "  # Break the loop\n",
    "  else: \n",
    "    break   \n",
    "  \n",
    "video.release()\n",
    " \n",
    "# Closes all the frames\n",
    "cv2.destroyAllWindows()\n"
   ]
  },
  {
   "cell_type": "markdown",
   "metadata": {},
   "source": [
    "- Mask creation"
   ]
  },
  {
   "cell_type": "code",
   "execution_count": 7,
   "metadata": {},
   "outputs": [],
   "source": [
    "video = cv2.VideoCapture('/home/davide/Desktop/drones/assets/video2.mp4')\n",
    "\n",
    "lower_bound = np.array([80, 80, 80])\n",
    "upper_bound = np.array([225, 225, 225])\n",
    "\n",
    "if (video.isOpened()== False): \n",
    "  print(\"Error opening video stream or file\")\n",
    "\n",
    "while (video.isOpened()):\n",
    "  ret, frame = video.read()\n",
    "  if ret == True:\n",
    "    mask = cv2.inRange(frame, lower_bound, upper_bound)\n",
    "\n",
    "    masked = cv2.bitwise_and(frame, frame, mask=mask)\n",
    "      \n",
    "    # cv2.imshow('Frame',sobelx)\n",
    "    cv2.imshow('Frame',masked)\n",
    "    # cv2.imshow('Frame',laplacian)\n",
    "    if cv2.waitKey(25) & 0xFF == ord('q'):\n",
    "      break\n",
    " \n",
    "  # Break the loop\n",
    "  else: \n",
    "    break   \n",
    "  \n",
    "video.release()\n",
    " \n",
    "# Closes all the frames\n",
    "cv2.destroyAllWindows()\n"
   ]
  },
  {
   "cell_type": "markdown",
   "metadata": {},
   "source": [
    "- Green Mask"
   ]
  },
  {
   "cell_type": "code",
   "execution_count": 6,
   "metadata": {},
   "outputs": [],
   "source": [
    "video = cv2.VideoCapture('/home/davide/Desktop/drones/assets/test.mp4')\n",
    "\n",
    "lower_bound = np.array([35, 50, 50])\n",
    "upper_bound = np.array([85, 255, 255])\n",
    "\n",
    "if (video.isOpened()== False): \n",
    "  print(\"Error opening video stream or file\")\n",
    "\n",
    "while (video.isOpened()):\n",
    "  ret, frame = video.read()\n",
    "  if ret == True:\n",
    "    hsv = cv2.cvtColor(frame, cv2.COLOR_BGR2HSV)\n",
    "    mask = cv2.inRange(hsv, lower_bound, upper_bound)\n",
    "\n",
    "    masked = cv2.bitwise_and(frame, frame, mask=mask)\n",
    "      \n",
    "    # cv2.imshow('Frame',sobelx)\n",
    "    cv2.imshow('Frame',masked)\n",
    "    # cv2.imshow('Frame',laplacian)\n",
    "    if cv2.waitKey(25) & 0xFF == ord('q'):\n",
    "      break\n",
    " \n",
    "  # Break the loop\n",
    "  else: \n",
    "    break   \n",
    "  \n",
    "video.release()\n",
    " \n",
    "# Closes all the frames\n",
    "cv2.destroyAllWindows()\n"
   ]
  },
  {
   "cell_type": "markdown",
   "metadata": {},
   "source": [
    "- MASkerin"
   ]
  },
  {
   "cell_type": "code",
   "execution_count": 6,
   "metadata": {},
   "outputs": [],
   "source": [
    "\n",
    "video = cv2.VideoCapture('/home/davide/Desktop/drones/assets/test.mp4')\n",
    "\n",
    "if (video.isOpened()== False): \n",
    "  print(\"Error opening video stream or file\")\n",
    "\n",
    "image = None\n",
    "\n",
    "while (video.isOpened()):\n",
    "  ret, frame = video.read()\n",
    "  image = frame\n",
    "  break\n",
    "video.release()\n",
    "\n",
    "# Convert the synthetic image to a format suitable for k-NN (e.g., 2D array)\n",
    "pixel_values = image.reshape(-1, 3).astype(np.float32)\n",
    "\n",
    "# Define the number of clusters (segments)\n",
    "k = 3\n",
    "\n",
    "# Define the criteria for k-means\n",
    "criteria = (cv2.TERM_CRITERIA_EPS + cv2.TERM_CRITERIA_MAX_ITER, 100, 0.2)\n",
    "\n",
    "# Apply k-NN segmentation\n",
    "_, labels, centers = cv2.kmeans(pixel_values, k, None, criteria, 10, cv2.KMEANS_RANDOM_CENTERS)\n",
    "\n",
    "# convert back to 8 bit values\n",
    "centers = np.uint8(centers)\n",
    "\n",
    "# flatten the labels array\n",
    "labels = labels.flatten()\n",
    "\n",
    "# convert all pixels to the color of the centroids\n",
    "segmented_image = centers[labels.flatten()]\n",
    "\n",
    "# reshape back to the original image dimension\n",
    "segmented_image = segmented_image.reshape(image.shape)\n",
    "\n",
    "# Display the segmented image\n",
    "cv2.imshow(\"Porco dio\", segmented_image)\n",
    "cv2.waitKey(0)\n",
    "cv2.destroyAllWindows()"
   ]
  },
  {
   "cell_type": "markdown",
   "metadata": {},
   "source": [
    "- Optical flow"
   ]
  },
  {
   "cell_type": "code",
   "execution_count": null,
   "metadata": {},
   "outputs": [],
   "source": []
  }
 ],
 "metadata": {
  "kernelspec": {
   "display_name": "SIV",
   "language": "python",
   "name": "python3"
  },
  "language_info": {
   "codemirror_mode": {
    "name": "ipython",
    "version": 3
   },
   "file_extension": ".py",
   "mimetype": "text/x-python",
   "name": "python",
   "nbconvert_exporter": "python",
   "pygments_lexer": "ipython3",
   "version": "3.10.12"
  }
 },
 "nbformat": 4,
 "nbformat_minor": 2
}
